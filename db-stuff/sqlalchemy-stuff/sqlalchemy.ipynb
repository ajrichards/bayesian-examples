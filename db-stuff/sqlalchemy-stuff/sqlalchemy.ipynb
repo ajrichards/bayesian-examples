{
 "cells": [
  {
   "cell_type": "markdown",
   "metadata": {},
   "source": [
    "## SQLAlchemy\n",
    "\n",
    "### What is it?\n",
    "\n",
    "   * **Object-Relational Mapper** -- A technique that connects the objects of an application to tables in an RDB\n",
    "   * **multi-level** -- can interact with DBs as multiple levels of abstraction\n",
    "\n",
    "### Why is it useful?\n",
    "\n",
    "[There are some reasons you should consider SQLAlchemy](http://danielweitzenfeld.github.io/passtheroc/blog/2014/10/12/datasci-sqlalchemy)\n",
    "\n",
    "   * Uses less database specific code\n",
    "   * Generalizes easily to different databases\n",
    "   * Integrates nicely with [Django](https://www.djangoproject.com), [Pylons/Pyrmaid](http://www.pylonsproject.org/) and [Flask](http://flask.pocoo.org)\n",
    "\n",
    "There are also a [few organizations you may have heard of](http://www.sqlalchemy.org/organizations.html) that use SQLAlchemy."
   ]
  },
  {
   "cell_type": "markdown",
   "metadata": {},
   "source": [
    "### Database setup\n",
    "\n",
    "On OSX use only second command\n",
    "\n",
    "```bash\n",
    "$ sudo su - postgres\n",
    "$ psql -U postgres\n",
    "```\n",
    "\n",
    "Then\n",
    "\n",
    "```sql\n",
    "CREATE USER ender WITH ENCRYPTED PASSWORD 'bugger';\n",
    "CREATE DATABASE foo WITH OWNER ender;\n",
    "\\q\n",
    "```"
   ]
  },
  {
   "cell_type": "markdown",
   "metadata": {},
   "source": [
    "### Create a DB"
   ]
  },
  {
   "cell_type": "code",
   "execution_count": 2,
   "metadata": {
    "collapsed": false
   },
   "outputs": [
    {
     "name": "stdout",
     "output_type": "stream",
     "text": [
      "········\n"
     ]
    }
   ],
   "source": [
    "import os,sys,getpass,datetime\n",
    "from sqlalchemy import Column, ForeignKey, Integer, String, Float, DateTime\n",
    "from sqlalchemy.ext.declarative import declarative_base\n",
    "from sqlalchemy.orm import relationship\n",
    "from sqlalchemy import create_engine\n",
    "from sqlalchemy.orm import sessionmaker\n",
    "\n",
    "Base = declarative_base()\n",
    "\n",
    "\n",
    "class Member(Base):\n",
    "    __tablename__ = 'member'\n",
    "    id = Column(Integer, primary_key=True)\n",
    "    name = Column(String(250), nullable=False)\n",
    "    address = Column(String(250), nullable=False)\n",
    "    signup_store = Column(String(250))\n",
    "\n",
    "class Purchase(Base):\n",
    "    __tablename__ = 'purchase'\n",
    "    id = Column(Integer, primary_key=True)\n",
    "    item_number = Column(Integer, nullable=False)\n",
    "    item_category = Column(String(250), nullable=False)\n",
    "    item_name = Column(String(250), nullable=False)\n",
    "    item_amount = Column(Float, nullable=False)\n",
    "    purchace_date = Column(DateTime,default=datetime.datetime.utcnow)\n",
    "    member_id = Column(Integer, ForeignKey('member.id'))\n",
    "    member = relationship(Member)        \n",
    "        \n",
    "class Game(Base):\n",
    "    __tablename__ = 'game'\n",
    "    id = Column(Integer, primary_key=True)\n",
    "    game_name = Column(String(250))\n",
    "    game_type = Column(String(250))\n",
    "    game_maker = Column(String(250), nullable=False)\n",
    "    game_date = Column(DateTime, default=datetime.datetime.utcnow)\n",
    "    member_id = Column(Integer, ForeignKey('member.id'))\n",
    "    member = relationship(Member)        \n",
    "\n",
    "## Create an engine\n",
    "uname = 'ender'\n",
    "upass = getpass.getpass()\n",
    "dbname = 'foo'\n",
    "dbhost = 'localhost'\n",
    "port = '5432'\n",
    "engine = create_engine('postgresql://%s:%s@%s:%s/%s'%(uname,upass,dbhost,port,dbname))\n",
    "\n",
    "## erase the taples if they exist (CAREFUL the drop_all!!!)\n",
    "Base.metadata.reflect(bind=engine)\n",
    "Base.metadata.drop_all(engine)\n",
    "\n",
    "## Create all tables in the engine. This is equivalent to \"Create Table\"\n",
    "Base.metadata.create_all(engine)"
   ]
  },
  {
   "cell_type": "markdown",
   "metadata": {},
   "source": [
    "### Add some content to the DB"
   ]
  },
  {
   "cell_type": "code",
   "execution_count": 4,
   "metadata": {
    "collapsed": false
   },
   "outputs": [
    {
     "name": "stdout",
     "output_type": "stream",
     "text": [
      "done\n"
     ]
    }
   ],
   "source": [
    "## create a session (staging zone)\n",
    "Base.metadata.bind = engine\n",
    "DBSession = sessionmaker(bind=engine)\n",
    "session = DBSession()\n",
    "\n",
    "## add some members\n",
    "new_member_1 = Member(name='pipin',address='west shire',signup_store='prancing pony')\n",
    "new_member_2 = Member(name='peregrin',address='south shire',signup_store='prancing pony')\n",
    "\n",
    "session.add(new_member_1)\n",
    "session.add(new_member_2)\n",
    "session.commit()\n",
    "\n",
    "## add some purchases\n",
    "new_purchase = Purchase(item_number=1234,\n",
    "                        item_category='role playing',\n",
    "                        item_name='playing mat',\n",
    "                        item_amount = 10.45,\n",
    "                        purchace_date = datetime.datetime.utcnow,                        \n",
    "                        member_id = new_member_1.id\n",
    ")\n",
    "\n",
    "session.commit()\n",
    "print('done')"
   ]
  },
  {
   "cell_type": "markdown",
   "metadata": {},
   "source": [
    "### A DbWrapper for your convenience"
   ]
  },
  {
   "cell_type": "code",
   "execution_count": 5,
   "metadata": {
    "collapsed": false
   },
   "outputs": [],
   "source": [
    "import sys,os,csv,re\n",
    "from sqlalchemy.ext.automap import automap_base\n",
    "from sqlalchemy import create_engine\n",
    "from sqlalchemy.orm import Session,relationship\n",
    "from sqlalchemy import MetaData,Table,Column,Sequence,ForeignKey, Integer, String\n",
    "from sqlalchemy.inspection import inspect\n",
    "from sqlalchemy.sql import select\n",
    "from sqlalchemy.ext.declarative import declarative_base\n",
    "\n",
    "try:\n",
    "    from sqlalchemy_schemadisplay import create_schema_graph\n",
    "    createGraph = True\n",
    "except:\n",
    "    createGraph = False\n",
    "\n",
    "class DbWrapper(object):\n",
    "    \"\"\"\n",
    "    interface with a generic database\n",
    "    \"\"\"\n",
    "\n",
    "    def __init__(self,uname,upass,dbname,dbhost='localhost',port='5432',reflect=False):\n",
    "        \"\"\"\n",
    "        Constructor\n",
    "\n",
    "        uname - database username\n",
    "        upass - database password\n",
    "        dbname - database name\n",
    "        dbhost - database host address\n",
    "        port - database port\n",
    "        \"\"\"\n",
    "\n",
    "        ## db variables\n",
    "        self.uname = uname\n",
    "        self.upass = upass\n",
    "        self.dbname = dbname\n",
    "        self.dbhost = dbhost\n",
    "        self.port = port\n",
    "\n",
    "        ## initialize\n",
    "        self.connect()\n",
    "\n",
    "    def connect(self):\n",
    "        ## basic connection\n",
    "        self.Base = automap_base()    \n",
    "        self.engine = create_engine('postgresql://%s:%s@%s:%s/%s'%(self.uname,self.upass,self.dbhost,self.port,self.dbname))\n",
    "        self.conn = self.engine.connect()\n",
    "        self.session = Session(self.engine)\n",
    "        self.meta = MetaData()\n",
    "        self.tables = {}\n",
    "        \n",
    "        ## reflect the tables \n",
    "        self.meta.reflect(bind=self.engine)\n",
    "        for tname in self.engine.table_names():\n",
    "            tbl = Table(tname,self.meta,autoload=True,autoload_with=self.engine)\n",
    "            self.tables[tname] = tbl\n",
    "            \n",
    "    def print_summary(self):\n",
    "        \"\"\"\n",
    "        print a list of the tables\n",
    "        \"\"\"\n",
    "\n",
    "        print(\"-----------------------\")\n",
    "        print(\"%s\"%(self.dbname))\n",
    "        print(\"%s tables\"%len(self.tables.keys()))\n",
    "        \n",
    "        for tname,tbl in self.tables.iteritems():\n",
    "            print(\"\\t %s\"%(tname)) \n",
    "            print(\"\\t\\tPK: %s \"%\";\".join([key.name for key in inspect(tbl).primary_key]))\n",
    "            for col in tbl.columns:\n",
    "                print(\"\\t\\t%s\"%col)\n",
    "\n",
    "    def draw_schema(self,filename=\"schema.png\"):\n",
    "        \n",
    "        if createGraph:\n",
    "            # create the pydot graph object by autoloading all tables via a bound metadata object\n",
    "            graph = create_schema_graph(metadata=self.meta,\n",
    "                                        show_datatypes=False,   # can get large with datatypes\n",
    "                                        show_indexes=False,     # ditto for indexes\n",
    "                                        rankdir='LRA',           # From left to right (LR), top to bottom (TB)\n",
    "                                        concentrate=False       # Don't try to join the relation lines together\n",
    "            )\n",
    "\n",
    "            if re.search(\"\\.png\",filename):\n",
    "                graph.write_png(filename)\n",
    "            elif re.search(\"\\.svg\",filename):\n",
    "                graph.write_svg(filename)\n",
    "            else:\n",
    "                raise Exception(\"invalid filename specified [*.png or *.svg\")\n",
    "        \n",
    "            print(\"...%s created\"%filename)\n",
    "        else:\n",
    "            print \"Not creating schema figure because 'sqlalchemy_schemadisplay' is not installed\"\n",
    "        "
   ]
  },
  {
   "cell_type": "markdown",
   "metadata": {},
   "source": [
    "### Using DbWrapper"
   ]
  },
  {
   "cell_type": "code",
   "execution_count": 9,
   "metadata": {
    "collapsed": false
   },
   "outputs": [
    {
     "data": {
      "image/png": "[encoded data removed]",
      "text/plain": [
       "<IPython.core.display.Image object>"
      ]
     },
     "execution_count": 9,
     "metadata": {
      "image/png": {
       "width": 400
      }
     },
     "output_type": "execute_result"
    }
   ],
   "source": [
    "from IPython.display import Image\n",
    "Image(filename='schema.png',width=400)"
   ]
  },
  {
   "cell_type": "code",
   "execution_count": 6,
   "metadata": {
    "collapsed": false
   },
   "outputs": [
    {
     "name": "stdout",
     "output_type": "stream",
     "text": [
      "-----------------------\n",
      "foo\n",
      "3 tables\n",
      "\t member\n",
      "\t\tPK: id \n",
      "\t\tmember.id\n",
      "\t\tmember.name\n",
      "\t\tmember.address\n",
      "\t\tmember.signup_store\n",
      "\t purchase\n",
      "\t\tPK: id \n",
      "\t\tpurchase.id\n",
      "\t\tpurchase.item_number\n",
      "\t\tpurchase.item_category\n",
      "\t\tpurchase.item_name\n",
      "\t\tpurchase.item_amount\n",
      "\t\tpurchase.purchace_date\n",
      "\t\tpurchase.member_id\n",
      "\t game\n",
      "\t\tPK: id \n",
      "\t\tgame.id\n",
      "\t\tgame.game_name\n",
      "\t\tgame.game_type\n",
      "\t\tgame.game_maker\n",
      "\t\tgame.game_date\n",
      "\t\tgame.member_id\n",
      "Not creating schema figure because 'sqlalchemy_schemadisplay' is not installed\n",
      "[(1, u'pipin', u'west shire', u'prancing pony'), (2, u'peregrin', u'south shire', u'prancing pony'), (3, u'pipin', u'west shire', u'prancing pony'), (4, u'peregrin', u'south shire', u'prancing pony')]\n",
      "[(1, u'pipin', u'west shire', u'prancing pony'), (3, u'pipin', u'west shire', u'prancing pony')]\n",
      "SELECT member.id, member.name, member.address, member.signup_store \n",
      "FROM member\n",
      "(1, u'pipin', u'west shire', u'prancing pony')\n"
     ]
    }
   ],
   "source": [
    "\n",
    "## connect and use the built in methods\n",
    "db = DbWrapper('ender','bugger','foo')\n",
    "db.print_summary()\n",
    "db.draw_schema()\n",
    "\n",
    "## sqlalchemy ORM queries\n",
    "Member = db.tables['member']\n",
    "all_members = db.session.query(Member).all()\n",
    "specific_rows = db.session.query(Member).filter_by(name=\"pipin\").all()\n",
    "\n",
    "print all_members\n",
    "print specific_rows\n",
    "    \n",
    "## sqlalchemy core queries\n",
    "s = select([Member])\n",
    "_result = db.conn.execute(s)\n",
    "result = _result.fetchall()\n",
    "print str(s)\n",
    "print result[0]"
   ]
  },
  {
   "cell_type": "code",
   "execution_count": 5,
   "metadata": {
    "collapsed": false
   },
   "outputs": [
    {
     "data": {
      "text/plain": [
       "4"
      ]
     },
     "execution_count": 5,
     "metadata": {},
     "output_type": "execute_result"
    }
   ],
   "source": []
  }
 ],
 "metadata": {
  "kernelspec": {
   "display_name": "Python 2",
   "language": "python",
   "name": "python2"
  },
  "language_info": {
   "codemirror_mode": {
    "name": "ipython",
    "version": 2
   },
   "file_extension": ".py",
   "mimetype": "text/x-python",
   "name": "python",
   "nbconvert_exporter": "python",
   "pygments_lexer": "ipython2",
   "version": "2.7.12"
  }
 },
 "nbformat": 4,
 "nbformat_minor": 1
}
