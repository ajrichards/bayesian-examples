{
 "cells": [
  {
   "cell_type": "markdown",
   "metadata": {},
   "source": [
    "## Indexing in NumPy\n",
    "\n",
    "### np.where vs masking\n",
    "\n",
    "   * np.where returns just the indices where the equivalent mask is true\n",
    "   * this is useful if you need the actual indices (maybe for counts)\n",
    "   * otherwise the shorthand notation (masking) is perhaps easier\n",
    "   * np.where returns a tuple\n",
    "\n",
    "### Why do I care?\n",
    "\n",
    "You may need to work directly in NumPy due to the size of your data.  NumPy has a number of tricks that can speed up your code.  Even if you already knew the **trick** shown here you may like to see some code that can help you compare the speeds of different methods...  This is important aspect of performance tuning or more specifically code optimization.\n"
   ]
  },
  {
   "cell_type": "code",
   "execution_count": 12,
   "metadata": {
    "collapsed": false
   },
   "outputs": [
    {
     "name": "stdout",
     "output_type": "stream",
     "text": [
      "(array([0, 1, 2]),)\n",
      "[ True  True  True False False]\n"
     ]
    }
   ],
   "source": [
    "import numpy as np\n",
    "% matplotlib inline\n",
    "x = np.arange(5)\n",
    "print(np.where(x < 3))\n",
    "print(x < 3) "
   ]
  },
  {
   "cell_type": "markdown",
   "metadata": {},
   "source": [
    "### Chaining logic statements"
   ]
  },
  {
   "cell_type": "code",
   "execution_count": 2,
   "metadata": {
    "collapsed": false
   },
   "outputs": [
    {
     "name": "stdout",
     "output_type": "stream",
     "text": [
      "[4 5 6] (array([4, 5, 6]),) (array([4, 5, 6]),) [4 5 6]\n"
     ]
    }
   ],
   "source": [
    "x = np.arange(10)\n",
    "\n",
    "y1 = np.intersect1d(np.where(x > 3),np.where(x<7))\n",
    "y2 = np.where((x > 3) & (x < 7))\n",
    "y3 = np.where(np.logical_and(x > 3, x < 7))\n",
    "y4 = x[(x > 3) & (x < 7)]\n",
    "print(y1,y2,y3,y4)"
   ]
  },
  {
   "cell_type": "markdown",
   "metadata": {},
   "source": [
    "### Random helpful things in NumPy"
   ]
  },
  {
   "cell_type": "code",
   "execution_count": 3,
   "metadata": {
    "collapsed": false,
    "scrolled": true
   },
   "outputs": [
    {
     "name": "stdout",
     "output_type": "stream",
     "text": [
      "1\n",
      "[False False  True  True]\n",
      "[[], [], [0, 3], [0, 3]]\n",
      "2\n",
      "[ True False False  True False]\n",
      "[[2, 3], [], [], [2, 3], []]\n"
     ]
    }
   ],
   "source": [
    "a = np.array(['a','b','c','c'])\n",
    "#a = np.sort(np.unique(a))\n",
    "b = np.array(['c','d','e','c','f'])\n",
    "\n",
    "mask1a = np.in1d(a,b)\n",
    "mask1b = [np.where(b==i)[0].tolist() for i in a]\n",
    "mask2a = np.in1d(b,a)\n",
    "mask2b = [np.where(a==i)[0].tolist() for i in b]\n",
    "print(\"1\")\n",
    "print(mask1a)\n",
    "print(mask1b)\n",
    "print(\"2\")\n",
    "print(mask2a)\n",
    "print(mask2b)"
   ]
  },
  {
   "cell_type": "markdown",
   "metadata": {},
   "source": [
    "### How does one array compare to another?\n",
    "\n",
    "This example is also the real reason to read this notebook.\n",
    "\n",
    "```python\n",
    "a = np.array(['a','b','c'])\n",
    "b = np.array(['c','d','e','c','f'])\n",
    "```\n",
    "   * Where do we find elements of a in b?\n",
    "   * Where do we find elements of b in a?\n",
    "   * If you can use np.in1d\n",
    "   \n",
    "[np.in1d](http://docs.scipy.org/doc/numpy/reference/generated/numpy.in1d.html) is fast. But alway make sure you understand **when** it can be used before using it.\n",
    "\n",
    "   * if we have a query(a) and a search(b) list it can be helpful if you sort and make unique the query list\n",
    "   * it also helps to only look for things you can find\n",
    "\n",
    "You might be suprised how often this comes up.\n",
    "\n",
    "   * matrix of hospital visits give me only data on subjects from $a$\n",
    "   * matrix of test scores use only subjects where name is in list $a$ \n"
   ]
  },
  {
   "cell_type": "code",
   "execution_count": null,
   "metadata": {
    "collapsed": false
   },
   "outputs": [],
   "source": [
    "## Get rid of nans\n",
    "x = np.array([[1., 2., np.nan, 3., np.nan, np.nan]])\n",
    "x[~np.isnan(x)]\n",
    "\n",
    "## carry around indices\n",
    "labels = np.array(['x' + str(i)for i in range(10)])\n",
    "x = np.random.randint(1,14,10)\n",
    "sortedInds = np.argsort(x)\n",
    "print(\"sorted labels: %s\"%labels[sortedInds])\n",
    "\n",
    "## make x have exactly 5 evenly spaced points in the range 11 to 23\n",
    "np.linspace(11,23,5)\n",
    "\n",
    "## numpy has very efficient set operations\n",
    "print(np.intersect1d(np.array([1,2,3]),np.arange(10)))\n"
   ]
  },
  {
   "cell_type": "code",
   "execution_count": 22,
   "metadata": {
    "collapsed": false,
    "scrolled": true
   },
   "outputs": [
    {
     "data": {
      "image/png": "[encoded data removed]",
      "text/plain": [
       "<matplotlib.figure.Figure at 0x7fadc3b632e8>"
      ]
     },
     "metadata": {},
     "output_type": "display_data"
    }
   ],
   "source": [
    "import matplotlib.pyplot as plt\n",
    "import time\n",
    "\n",
    "sizes = [100,1000,5000,10000]\n",
    "\n",
    "times1,times2,times3 = [],[],[]\n",
    "\n",
    "for n1 in sizes:\n",
    "    n2 = n1 * 100\n",
    "    a = np.random.randint(0,200,n1)\n",
    "    b = np.random.randint(0,100,n2)\n",
    "    b_list = b.tolist()\n",
    "    \n",
    "    ## attempt 1\n",
    "    time_start = time.time()\n",
    "    a = np.sort(np.unique(a))\n",
    "    a = a[np.in1d(a,b)]\n",
    "    times1.append(time.time()-time_start)\n",
    "\n",
    "    ## attempt 2\n",
    "    time_start = time.time()\n",
    "    inds1 = np.where(np.in1d(b,a)==True)[0]\n",
    "    inds2 = [np.where(b==i)[0] for i in a]\n",
    "    inds2 = [item for sublist in inds2 for item in sublist]\n",
    "    inds2 = np.sort(np.array(inds2))\n",
    "    times2.append(time.time()-time_start)\n",
    "    \n",
    "    ## attempt 3\n",
    "    time_start = time.time()\n",
    "    inds3 = np.array([i for i,x in enumerate(b_list) if x in a])\n",
    "    inds3.sort()\n",
    "    times3.append(time.time()-time_start)\n",
    "    \n",
    "times1,times2,times3 = [np.array(t) for t in [times1,times2,times3]]        \n",
    "\n",
    "fig = plt.figure(figsize=(6,4),dpi=400)\n",
    "ax = fig.add_subplot(111)\n",
    "\n",
    "index = np.arange(len(sizes))\n",
    "bar_width = 0.25\n",
    "opacity = 0.4\n",
    "\n",
    "rects1 = plt.bar(index, times1, bar_width,\n",
    "                 alpha=opacity,\n",
    "                 color='b',\n",
    "                 label='np.in1d')\n",
    "\n",
    "rects1 = plt.bar(index + bar_width, times2, bar_width,\n",
    "                 alpha=opacity,\n",
    "                 color='k',\n",
    "                 label='np.where')\n",
    "\n",
    "rects2 = plt.bar(index + (bar_width * 2.0), times3, bar_width,\n",
    "                 alpha=opacity,\n",
    "                 color='c',\n",
    "                 label='list-only')\n",
    "\n",
    "plt.xlabel('len(query_vector) by method')\n",
    "plt.ylabel('Compute time (s)')\n",
    "plt.title('Comparing two vectors')\n",
    "plt.xticks(index + bar_width + (bar_width/2.0), [str(s) for s in sizes] )\n",
    "plt.legend(loc='upper left')\n",
    "plt.tight_layout()\n",
    "plt.show()\n",
    "\n",
    "    \n",
    "    "
   ]
  },
  {
   "cell_type": "code",
   "execution_count": null,
   "metadata": {
    "collapsed": true
   },
   "outputs": [],
   "source": []
  }
 ],
 "metadata": {
  "kernelspec": {
   "display_name": "Python 3",
   "language": "python",
   "name": "python3"
  },
  "language_info": {
   "codemirror_mode": {
    "name": "ipython",
    "version": 3
   },
   "file_extension": ".py",
   "mimetype": "text/x-python",
   "name": "python",
   "nbconvert_exporter": "python",
   "pygments_lexer": "ipython3",
   "version": "3.5.2"
  }
 },
 "nbformat": 4,
 "nbformat_minor": 1
}
