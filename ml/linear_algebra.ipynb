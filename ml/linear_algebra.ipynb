{
 "cells": [
  {
   "cell_type": "markdown",
   "metadata": {},
   "source": [
    "## Linear algebra in NumPy notes"
   ]
  },
  {
   "cell_type": "code",
   "execution_count": 9,
   "metadata": {
    "collapsed": false
   },
   "outputs": [],
   "source": [
    "import numpy as np\n",
    "import sympy as sym"
   ]
  },
  {
   "cell_type": "code",
   "execution_count": 10,
   "metadata": {
    "collapsed": false,
    "scrolled": true
   },
   "outputs": [
    {
     "name": "stdout",
     "output_type": "stream",
     "text": [
      "Matrix([[a11, a12], [a21, a22]]) Matrix([[b11, b12], [b21, b22]])\n"
     ]
    }
   ],
   "source": [
    "a11, a12, a21, a22, b11, b12, b21, b22 = sym.symbols('a11 a12 a21 a22 b11 b12 b21 b22')\n",
    "A = sym.Matrix([[a11, a12], [a21, a22]])\n",
    "B = sym.Matrix([[b11, b12], [b21, b22]])\n",
    "print(A,B)\n",
    "\n",
    "#x = np.array([[1,2,3,4]])\n",
    "#y = np.array([[4,5,6,7]]).T\n",
    "#print(x.shape,y.shape)\n",
    "#print(np.dot(x,y))\n",
    "\n"
   ]
  },
  {
   "cell_type": "code",
   "execution_count": null,
   "metadata": {
    "collapsed": true
   },
   "outputs": [],
   "source": []
  }
 ],
 "metadata": {
  "kernelspec": {
   "display_name": "Python 3",
   "language": "python",
   "name": "python3"
  },
  "language_info": {
   "codemirror_mode": {
    "name": "ipython",
    "version": 3
   },
   "file_extension": ".py",
   "mimetype": "text/x-python",
   "name": "python",
   "nbconvert_exporter": "python",
   "pygments_lexer": "ipython3",
   "version": "3.5.2"
  }
 },
 "nbformat": 4,
 "nbformat_minor": 1
}
