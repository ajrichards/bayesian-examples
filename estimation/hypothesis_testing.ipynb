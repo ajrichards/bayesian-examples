{
 "cells": [
  {
   "cell_type": "code",
   "execution_count": 2,
   "metadata": {
    "collapsed": true
   },
   "outputs": [],
   "source": [
    "import scipy.stats as s\n",
    "from scipy.stats.mstats import zscore\n",
    "import numpy as np"
   ]
  },
  {
   "cell_type": "markdown",
   "metadata": {},
   "source": [
    "## Calculating a $p$-value\n",
    "\n",
    "**One-tailed test**: A test in which the values of the parameter being studied under the alternative hypothesis, are allowed to be either greater than or less than the values of the parameter under the null hypothesis, but not both.\n",
    " \n",
    "**Two-tailed test**: A test in which the values of the parameter being studied under the alternative hypothesis could be greater than or less than the values of the parameter under the null hypothesis.\n",
    " \n"
   ]
  },
  {
   "cell_type": "code",
   "execution_count": 4,
   "metadata": {},
   "outputs": [
    {
     "name": "stdout",
     "output_type": "stream",
     "text": [
      "0.0455002638964\n"
     ]
    }
   ],
   "source": [
    "def calculate_zscore():\n",
    "    pass\n",
    "\n",
    "\n",
    "def calculate_zscore_pvalue(Z,two_tailed=True):\n",
    "    if Z > 0:\n",
    "        pval = 1.0 - s.norm.cdf(Z)\n",
    "    else:\n",
    "        pval = s.norm.cdf(Z)\n",
    "        \n",
    "    if two_tailed:\n",
    "        pval = 2.0 * pval\n",
    "    return pval\n",
    "\n",
    "Z = 2.0\n",
    "print(calculate_zscore_pvalue(Z))"
   ]
  },
  {
   "cell_type": "code",
   "execution_count": null,
   "metadata": {
    "collapsed": true
   },
   "outputs": [],
   "source": []
  }
 ],
 "metadata": {
  "kernelspec": {
   "display_name": "Python 3",
   "language": "python",
   "name": "python3"
  },
  "language_info": {
   "codemirror_mode": {
    "name": "ipython",
    "version": 3
   },
   "file_extension": ".py",
   "mimetype": "text/x-python",
   "name": "python",
   "nbconvert_exporter": "python",
   "pygments_lexer": "ipython3",
   "version": "3.6.1"
  }
 },
 "nbformat": 4,
 "nbformat_minor": 2
}
